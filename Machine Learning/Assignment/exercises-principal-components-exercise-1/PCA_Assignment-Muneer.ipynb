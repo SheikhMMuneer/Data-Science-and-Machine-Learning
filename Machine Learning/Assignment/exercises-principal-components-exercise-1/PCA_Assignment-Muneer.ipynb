{
 "cells": [
  {
   "cell_type": "code",
   "execution_count": 189,
   "metadata": {},
   "outputs": [],
   "source": [
    "import pandas as pd\n",
    "import numpy as np\n",
    "from sklearn.decomposition import PCA\n",
    "from sklearn.preprocessing import StandardScaler\n",
    "from sklearn.ensemble import RandomForestClassifier\n",
    "from sklearn.model_selection import train_test_split\n",
    "from sklearn.metrics import confusion_matrix, accuracy_score\n",
    "from scipy.stats import boxcox\n",
    "\n",
    "import matplotlib.pyplot as plt\n",
    "import seaborn as sns\n",
    "%matplotlib inline"
   ]
  },
  {
   "cell_type": "code",
   "execution_count": 190,
   "metadata": {},
   "outputs": [
    {
     "data": {
      "text/html": [
       "<div>\n",
       "<style scoped>\n",
       "    .dataframe tbody tr th:only-of-type {\n",
       "        vertical-align: middle;\n",
       "    }\n",
       "\n",
       "    .dataframe tbody tr th {\n",
       "        vertical-align: top;\n",
       "    }\n",
       "\n",
       "    .dataframe thead th {\n",
       "        text-align: right;\n",
       "    }\n",
       "</style>\n",
       "<table border=\"1\" class=\"dataframe\">\n",
       "  <thead>\n",
       "    <tr style=\"text-align: right;\">\n",
       "      <th></th>\n",
       "      <th>id</th>\n",
       "      <th>foodgroup</th>\n",
       "      <th>shortdescrip</th>\n",
       "      <th>descrip</th>\n",
       "      <th>commonname</th>\n",
       "      <th>mfgname</th>\n",
       "      <th>scientificname</th>\n",
       "      <th>energy_kcal</th>\n",
       "      <th>protein_g</th>\n",
       "      <th>fat_g</th>\n",
       "      <th>...</th>\n",
       "      <th>folate_usrda</th>\n",
       "      <th>niacin_usrda</th>\n",
       "      <th>riboflavin_usrda</th>\n",
       "      <th>thiamin_usrda</th>\n",
       "      <th>calcium_usrda</th>\n",
       "      <th>copper_usrda</th>\n",
       "      <th>magnesium_usrda</th>\n",
       "      <th>phosphorus_usrda</th>\n",
       "      <th>selenium_usrda</th>\n",
       "      <th>zinc_usrda</th>\n",
       "    </tr>\n",
       "  </thead>\n",
       "  <tbody>\n",
       "    <tr>\n",
       "      <td>0</td>\n",
       "      <td>1001</td>\n",
       "      <td>Dairy and Egg Products</td>\n",
       "      <td>BUTTER,WITH SALT</td>\n",
       "      <td>Butter, salted</td>\n",
       "      <td>NaN</td>\n",
       "      <td>NaN</td>\n",
       "      <td>NaN</td>\n",
       "      <td>717.0</td>\n",
       "      <td>0.85</td>\n",
       "      <td>81.11</td>\n",
       "      <td>...</td>\n",
       "      <td>0.0075</td>\n",
       "      <td>0.002625</td>\n",
       "      <td>0.026154</td>\n",
       "      <td>0.004167</td>\n",
       "      <td>0.020000</td>\n",
       "      <td>0.000000</td>\n",
       "      <td>0.004762</td>\n",
       "      <td>0.034286</td>\n",
       "      <td>0.018182</td>\n",
       "      <td>0.008182</td>\n",
       "    </tr>\n",
       "    <tr>\n",
       "      <td>1</td>\n",
       "      <td>1002</td>\n",
       "      <td>Dairy and Egg Products</td>\n",
       "      <td>BUTTER,WHIPPED,WITH SALT</td>\n",
       "      <td>Butter, whipped, with salt</td>\n",
       "      <td>NaN</td>\n",
       "      <td>NaN</td>\n",
       "      <td>NaN</td>\n",
       "      <td>717.0</td>\n",
       "      <td>0.85</td>\n",
       "      <td>81.11</td>\n",
       "      <td>...</td>\n",
       "      <td>0.0075</td>\n",
       "      <td>0.002625</td>\n",
       "      <td>0.026154</td>\n",
       "      <td>0.004167</td>\n",
       "      <td>0.020000</td>\n",
       "      <td>0.000018</td>\n",
       "      <td>0.004762</td>\n",
       "      <td>0.032857</td>\n",
       "      <td>0.018182</td>\n",
       "      <td>0.004545</td>\n",
       "    </tr>\n",
       "    <tr>\n",
       "      <td>2</td>\n",
       "      <td>1003</td>\n",
       "      <td>Dairy and Egg Products</td>\n",
       "      <td>BUTTER OIL,ANHYDROUS</td>\n",
       "      <td>Butter oil, anhydrous</td>\n",
       "      <td>NaN</td>\n",
       "      <td>NaN</td>\n",
       "      <td>NaN</td>\n",
       "      <td>876.0</td>\n",
       "      <td>0.28</td>\n",
       "      <td>99.48</td>\n",
       "      <td>...</td>\n",
       "      <td>0.0000</td>\n",
       "      <td>0.000188</td>\n",
       "      <td>0.003846</td>\n",
       "      <td>0.000833</td>\n",
       "      <td>0.003333</td>\n",
       "      <td>0.000001</td>\n",
       "      <td>0.000000</td>\n",
       "      <td>0.004286</td>\n",
       "      <td>0.000000</td>\n",
       "      <td>0.000909</td>\n",
       "    </tr>\n",
       "    <tr>\n",
       "      <td>3</td>\n",
       "      <td>1004</td>\n",
       "      <td>Dairy and Egg Products</td>\n",
       "      <td>CHEESE,BLUE</td>\n",
       "      <td>Cheese, blue</td>\n",
       "      <td>NaN</td>\n",
       "      <td>NaN</td>\n",
       "      <td>NaN</td>\n",
       "      <td>353.0</td>\n",
       "      <td>21.40</td>\n",
       "      <td>28.74</td>\n",
       "      <td>...</td>\n",
       "      <td>0.0900</td>\n",
       "      <td>0.063500</td>\n",
       "      <td>0.293846</td>\n",
       "      <td>0.024167</td>\n",
       "      <td>0.440000</td>\n",
       "      <td>0.000044</td>\n",
       "      <td>0.054762</td>\n",
       "      <td>0.552857</td>\n",
       "      <td>0.263636</td>\n",
       "      <td>0.241818</td>\n",
       "    </tr>\n",
       "    <tr>\n",
       "      <td>4</td>\n",
       "      <td>1005</td>\n",
       "      <td>Dairy and Egg Products</td>\n",
       "      <td>CHEESE,BRICK</td>\n",
       "      <td>Cheese, brick</td>\n",
       "      <td>NaN</td>\n",
       "      <td>NaN</td>\n",
       "      <td>NaN</td>\n",
       "      <td>371.0</td>\n",
       "      <td>23.24</td>\n",
       "      <td>29.68</td>\n",
       "      <td>...</td>\n",
       "      <td>0.0500</td>\n",
       "      <td>0.007375</td>\n",
       "      <td>0.270000</td>\n",
       "      <td>0.011667</td>\n",
       "      <td>0.561667</td>\n",
       "      <td>0.000027</td>\n",
       "      <td>0.057143</td>\n",
       "      <td>0.644286</td>\n",
       "      <td>0.263636</td>\n",
       "      <td>0.236364</td>\n",
       "    </tr>\n",
       "  </tbody>\n",
       "</table>\n",
       "<p>5 rows × 45 columns</p>\n",
       "</div>"
      ],
      "text/plain": [
       "     id               foodgroup              shortdescrip  \\\n",
       "0  1001  Dairy and Egg Products          BUTTER,WITH SALT   \n",
       "1  1002  Dairy and Egg Products  BUTTER,WHIPPED,WITH SALT   \n",
       "2  1003  Dairy and Egg Products      BUTTER OIL,ANHYDROUS   \n",
       "3  1004  Dairy and Egg Products               CHEESE,BLUE   \n",
       "4  1005  Dairy and Egg Products              CHEESE,BRICK   \n",
       "\n",
       "                      descrip commonname mfgname scientificname  energy_kcal  \\\n",
       "0              Butter, salted        NaN     NaN            NaN        717.0   \n",
       "1  Butter, whipped, with salt        NaN     NaN            NaN        717.0   \n",
       "2       Butter oil, anhydrous        NaN     NaN            NaN        876.0   \n",
       "3                Cheese, blue        NaN     NaN            NaN        353.0   \n",
       "4               Cheese, brick        NaN     NaN            NaN        371.0   \n",
       "\n",
       "   protein_g  fat_g  ...  folate_usrda  niacin_usrda  riboflavin_usrda  \\\n",
       "0       0.85  81.11  ...        0.0075      0.002625          0.026154   \n",
       "1       0.85  81.11  ...        0.0075      0.002625          0.026154   \n",
       "2       0.28  99.48  ...        0.0000      0.000188          0.003846   \n",
       "3      21.40  28.74  ...        0.0900      0.063500          0.293846   \n",
       "4      23.24  29.68  ...        0.0500      0.007375          0.270000   \n",
       "\n",
       "   thiamin_usrda  calcium_usrda  copper_usrda  magnesium_usrda  \\\n",
       "0       0.004167       0.020000      0.000000         0.004762   \n",
       "1       0.004167       0.020000      0.000018         0.004762   \n",
       "2       0.000833       0.003333      0.000001         0.000000   \n",
       "3       0.024167       0.440000      0.000044         0.054762   \n",
       "4       0.011667       0.561667      0.000027         0.057143   \n",
       "\n",
       "   phosphorus_usrda  selenium_usrda  zinc_usrda  \n",
       "0          0.034286        0.018182    0.008182  \n",
       "1          0.032857        0.018182    0.004545  \n",
       "2          0.004286        0.000000    0.000909  \n",
       "3          0.552857        0.263636    0.241818  \n",
       "4          0.644286        0.263636    0.236364  \n",
       "\n",
       "[5 rows x 45 columns]"
      ]
     },
     "execution_count": 190,
     "metadata": {},
     "output_type": "execute_result"
    }
   ],
   "source": [
    "df = pd.read_csv('nndb_flat_data.csv')\n",
    "df.columns = map(str.lower,df.columns)\n",
    "df.head()"
   ]
  },
  {
   "cell_type": "markdown",
   "metadata": {},
   "source": [
    "How many Rows and Column Exist in the dataset?"
   ]
  },
  {
   "cell_type": "code",
   "execution_count": 191,
   "metadata": {},
   "outputs": [
    {
     "data": {
      "text/plain": [
       "(8618, 45)"
      ]
     },
     "execution_count": 191,
     "metadata": {},
     "output_type": "execute_result"
    }
   ],
   "source": [
    "df.shape"
   ]
  },
  {
   "cell_type": "markdown",
   "metadata": {},
   "source": [
    "There are `8618 Rows and 45 Columns ` exists in the dataset."
   ]
  },
  {
   "cell_type": "markdown",
   "metadata": {},
   "source": [
    "What is Summary of DataSet?"
   ]
  },
  {
   "cell_type": "markdown",
   "metadata": {},
   "source": [
    "## Drop Irrelevant Columns From DataSet:"
   ]
  },
  {
   "cell_type": "code",
   "execution_count": 192,
   "metadata": {},
   "outputs": [],
   "source": [
    "df.drop([\"id\", \"shortdescrip\", \"descrip\", \"commonname\", \"mfgname\",\"scientificname\"], axis = 1,inplace=True)"
   ]
  },
  {
   "cell_type": "code",
   "execution_count": 193,
   "metadata": {},
   "outputs": [
    {
     "data": {
      "text/html": [
       "<div>\n",
       "<style scoped>\n",
       "    .dataframe tbody tr th:only-of-type {\n",
       "        vertical-align: middle;\n",
       "    }\n",
       "\n",
       "    .dataframe tbody tr th {\n",
       "        vertical-align: top;\n",
       "    }\n",
       "\n",
       "    .dataframe thead th {\n",
       "        text-align: right;\n",
       "    }\n",
       "</style>\n",
       "<table border=\"1\" class=\"dataframe\">\n",
       "  <thead>\n",
       "    <tr style=\"text-align: right;\">\n",
       "      <th></th>\n",
       "      <th>energy_kcal</th>\n",
       "      <th>protein_g</th>\n",
       "      <th>fat_g</th>\n",
       "      <th>carb_g</th>\n",
       "      <th>sugar_g</th>\n",
       "      <th>fiber_g</th>\n",
       "      <th>vita_mcg</th>\n",
       "      <th>vitb6_mg</th>\n",
       "      <th>vitb12_mcg</th>\n",
       "      <th>vitc_mg</th>\n",
       "      <th>...</th>\n",
       "      <th>folate_usrda</th>\n",
       "      <th>niacin_usrda</th>\n",
       "      <th>riboflavin_usrda</th>\n",
       "      <th>thiamin_usrda</th>\n",
       "      <th>calcium_usrda</th>\n",
       "      <th>copper_usrda</th>\n",
       "      <th>magnesium_usrda</th>\n",
       "      <th>phosphorus_usrda</th>\n",
       "      <th>selenium_usrda</th>\n",
       "      <th>zinc_usrda</th>\n",
       "    </tr>\n",
       "  </thead>\n",
       "  <tbody>\n",
       "    <tr>\n",
       "      <td>count</td>\n",
       "      <td>8618.000000</td>\n",
       "      <td>8618.00000</td>\n",
       "      <td>8618.000000</td>\n",
       "      <td>8618.000000</td>\n",
       "      <td>8618.000000</td>\n",
       "      <td>8618.000000</td>\n",
       "      <td>8618.000000</td>\n",
       "      <td>8618.000000</td>\n",
       "      <td>8618.000000</td>\n",
       "      <td>8618.000000</td>\n",
       "      <td>...</td>\n",
       "      <td>8618.000000</td>\n",
       "      <td>8618.000000</td>\n",
       "      <td>8618.000000</td>\n",
       "      <td>8618.000000</td>\n",
       "      <td>8618.000000</td>\n",
       "      <td>8618.000000</td>\n",
       "      <td>8618.000000</td>\n",
       "      <td>8618.000000</td>\n",
       "      <td>8618.000000</td>\n",
       "      <td>8618.000000</td>\n",
       "    </tr>\n",
       "    <tr>\n",
       "      <td>mean</td>\n",
       "      <td>226.438617</td>\n",
       "      <td>11.52391</td>\n",
       "      <td>10.647024</td>\n",
       "      <td>21.819062</td>\n",
       "      <td>6.560253</td>\n",
       "      <td>2.023242</td>\n",
       "      <td>93.968786</td>\n",
       "      <td>0.264369</td>\n",
       "      <td>1.225260</td>\n",
       "      <td>7.925377</td>\n",
       "      <td>...</td>\n",
       "      <td>0.125765</td>\n",
       "      <td>0.213222</td>\n",
       "      <td>0.182499</td>\n",
       "      <td>0.174881</td>\n",
       "      <td>0.061176</td>\n",
       "      <td>0.000191</td>\n",
       "      <td>0.077965</td>\n",
       "      <td>0.222838</td>\n",
       "      <td>0.229363</td>\n",
       "      <td>0.179111</td>\n",
       "    </tr>\n",
       "    <tr>\n",
       "      <td>std</td>\n",
       "      <td>169.388910</td>\n",
       "      <td>10.55059</td>\n",
       "      <td>15.866353</td>\n",
       "      <td>27.239000</td>\n",
       "      <td>13.602098</td>\n",
       "      <td>4.313670</td>\n",
       "      <td>779.362205</td>\n",
       "      <td>0.478614</td>\n",
       "      <td>4.319183</td>\n",
       "      <td>57.582758</td>\n",
       "      <td>...</td>\n",
       "      <td>0.466402</td>\n",
       "      <td>0.302161</td>\n",
       "      <td>0.346062</td>\n",
       "      <td>0.431974</td>\n",
       "      <td>0.167803</td>\n",
       "      <td>0.000615</td>\n",
       "      <td>0.133496</td>\n",
       "      <td>0.290133</td>\n",
       "      <td>0.514406</td>\n",
       "      <td>0.305292</td>\n",
       "    </tr>\n",
       "    <tr>\n",
       "      <td>min</td>\n",
       "      <td>0.000000</td>\n",
       "      <td>0.00000</td>\n",
       "      <td>0.000000</td>\n",
       "      <td>0.000000</td>\n",
       "      <td>0.000000</td>\n",
       "      <td>0.000000</td>\n",
       "      <td>0.000000</td>\n",
       "      <td>0.000000</td>\n",
       "      <td>0.000000</td>\n",
       "      <td>0.000000</td>\n",
       "      <td>...</td>\n",
       "      <td>0.000000</td>\n",
       "      <td>0.000000</td>\n",
       "      <td>0.000000</td>\n",
       "      <td>0.000000</td>\n",
       "      <td>0.000000</td>\n",
       "      <td>0.000000</td>\n",
       "      <td>0.000000</td>\n",
       "      <td>0.000000</td>\n",
       "      <td>0.000000</td>\n",
       "      <td>0.000000</td>\n",
       "    </tr>\n",
       "    <tr>\n",
       "      <td>25%</td>\n",
       "      <td>93.000000</td>\n",
       "      <td>2.47000</td>\n",
       "      <td>0.992500</td>\n",
       "      <td>0.040000</td>\n",
       "      <td>0.000000</td>\n",
       "      <td>0.000000</td>\n",
       "      <td>0.000000</td>\n",
       "      <td>0.034250</td>\n",
       "      <td>0.000000</td>\n",
       "      <td>0.000000</td>\n",
       "      <td>...</td>\n",
       "      <td>0.000000</td>\n",
       "      <td>0.023875</td>\n",
       "      <td>0.035385</td>\n",
       "      <td>0.025000</td>\n",
       "      <td>0.007500</td>\n",
       "      <td>0.000033</td>\n",
       "      <td>0.023810</td>\n",
       "      <td>0.052857</td>\n",
       "      <td>0.001818</td>\n",
       "      <td>0.020909</td>\n",
       "    </tr>\n",
       "    <tr>\n",
       "      <td>50%</td>\n",
       "      <td>191.000000</td>\n",
       "      <td>8.28500</td>\n",
       "      <td>5.235000</td>\n",
       "      <td>8.945000</td>\n",
       "      <td>0.370000</td>\n",
       "      <td>0.300000</td>\n",
       "      <td>1.500000</td>\n",
       "      <td>0.120000</td>\n",
       "      <td>0.080000</td>\n",
       "      <td>0.000000</td>\n",
       "      <td>...</td>\n",
       "      <td>0.017500</td>\n",
       "      <td>0.131250</td>\n",
       "      <td>0.115385</td>\n",
       "      <td>0.064583</td>\n",
       "      <td>0.015833</td>\n",
       "      <td>0.000088</td>\n",
       "      <td>0.047619</td>\n",
       "      <td>0.190000</td>\n",
       "      <td>0.070909</td>\n",
       "      <td>0.076818</td>\n",
       "    </tr>\n",
       "    <tr>\n",
       "      <td>75%</td>\n",
       "      <td>336.000000</td>\n",
       "      <td>19.97750</td>\n",
       "      <td>13.900000</td>\n",
       "      <td>32.900000</td>\n",
       "      <td>5.300000</td>\n",
       "      <td>2.400000</td>\n",
       "      <td>21.000000</td>\n",
       "      <td>0.355000</td>\n",
       "      <td>1.297500</td>\n",
       "      <td>2.500000</td>\n",
       "      <td>...</td>\n",
       "      <td>0.062500</td>\n",
       "      <td>0.314328</td>\n",
       "      <td>0.200000</td>\n",
       "      <td>0.185833</td>\n",
       "      <td>0.051667</td>\n",
       "      <td>0.000161</td>\n",
       "      <td>0.069048</td>\n",
       "      <td>0.308571</td>\n",
       "      <td>0.387273</td>\n",
       "      <td>0.245455</td>\n",
       "    </tr>\n",
       "    <tr>\n",
       "      <td>max</td>\n",
       "      <td>902.000000</td>\n",
       "      <td>88.32000</td>\n",
       "      <td>100.000000</td>\n",
       "      <td>100.000000</td>\n",
       "      <td>99.800000</td>\n",
       "      <td>79.000000</td>\n",
       "      <td>30000.000000</td>\n",
       "      <td>12.000000</td>\n",
       "      <td>98.890000</td>\n",
       "      <td>2400.000000</td>\n",
       "      <td>...</td>\n",
       "      <td>14.702500</td>\n",
       "      <td>7.968750</td>\n",
       "      <td>13.461538</td>\n",
       "      <td>19.479167</td>\n",
       "      <td>6.136667</td>\n",
       "      <td>0.016722</td>\n",
       "      <td>1.859524</td>\n",
       "      <td>14.168571</td>\n",
       "      <td>34.854545</td>\n",
       "      <td>8.268182</td>\n",
       "    </tr>\n",
       "  </tbody>\n",
       "</table>\n",
       "<p>8 rows × 38 columns</p>\n",
       "</div>"
      ],
      "text/plain": [
       "       energy_kcal   protein_g        fat_g       carb_g      sugar_g  \\\n",
       "count  8618.000000  8618.00000  8618.000000  8618.000000  8618.000000   \n",
       "mean    226.438617    11.52391    10.647024    21.819062     6.560253   \n",
       "std     169.388910    10.55059    15.866353    27.239000    13.602098   \n",
       "min       0.000000     0.00000     0.000000     0.000000     0.000000   \n",
       "25%      93.000000     2.47000     0.992500     0.040000     0.000000   \n",
       "50%     191.000000     8.28500     5.235000     8.945000     0.370000   \n",
       "75%     336.000000    19.97750    13.900000    32.900000     5.300000   \n",
       "max     902.000000    88.32000   100.000000   100.000000    99.800000   \n",
       "\n",
       "           fiber_g      vita_mcg     vitb6_mg   vitb12_mcg      vitc_mg  ...  \\\n",
       "count  8618.000000   8618.000000  8618.000000  8618.000000  8618.000000  ...   \n",
       "mean      2.023242     93.968786     0.264369     1.225260     7.925377  ...   \n",
       "std       4.313670    779.362205     0.478614     4.319183    57.582758  ...   \n",
       "min       0.000000      0.000000     0.000000     0.000000     0.000000  ...   \n",
       "25%       0.000000      0.000000     0.034250     0.000000     0.000000  ...   \n",
       "50%       0.300000      1.500000     0.120000     0.080000     0.000000  ...   \n",
       "75%       2.400000     21.000000     0.355000     1.297500     2.500000  ...   \n",
       "max      79.000000  30000.000000    12.000000    98.890000  2400.000000  ...   \n",
       "\n",
       "       folate_usrda  niacin_usrda  riboflavin_usrda  thiamin_usrda  \\\n",
       "count   8618.000000   8618.000000       8618.000000    8618.000000   \n",
       "mean       0.125765      0.213222          0.182499       0.174881   \n",
       "std        0.466402      0.302161          0.346062       0.431974   \n",
       "min        0.000000      0.000000          0.000000       0.000000   \n",
       "25%        0.000000      0.023875          0.035385       0.025000   \n",
       "50%        0.017500      0.131250          0.115385       0.064583   \n",
       "75%        0.062500      0.314328          0.200000       0.185833   \n",
       "max       14.702500      7.968750         13.461538      19.479167   \n",
       "\n",
       "       calcium_usrda  copper_usrda  magnesium_usrda  phosphorus_usrda  \\\n",
       "count    8618.000000   8618.000000      8618.000000       8618.000000   \n",
       "mean        0.061176      0.000191         0.077965          0.222838   \n",
       "std         0.167803      0.000615         0.133496          0.290133   \n",
       "min         0.000000      0.000000         0.000000          0.000000   \n",
       "25%         0.007500      0.000033         0.023810          0.052857   \n",
       "50%         0.015833      0.000088         0.047619          0.190000   \n",
       "75%         0.051667      0.000161         0.069048          0.308571   \n",
       "max         6.136667      0.016722         1.859524         14.168571   \n",
       "\n",
       "       selenium_usrda   zinc_usrda  \n",
       "count     8618.000000  8618.000000  \n",
       "mean         0.229363     0.179111  \n",
       "std          0.514406     0.305292  \n",
       "min          0.000000     0.000000  \n",
       "25%          0.001818     0.020909  \n",
       "50%          0.070909     0.076818  \n",
       "75%          0.387273     0.245455  \n",
       "max         34.854545     8.268182  \n",
       "\n",
       "[8 rows x 38 columns]"
      ]
     },
     "execution_count": 193,
     "metadata": {},
     "output_type": "execute_result"
    }
   ],
   "source": [
    "df.describe()"
   ]
  },
  {
   "cell_type": "markdown",
   "metadata": {},
   "source": [
    "## Checking MultiCollinearity Among Features:"
   ]
  },
  {
   "cell_type": "code",
   "execution_count": 194,
   "metadata": {
    "scrolled": true
   },
   "outputs": [
    {
     "data": {
      "image/png": "[encoded data removed]",
      "text/plain": [
       "<Figure size 720x720 with 2 Axes>"
      ]
     },
     "metadata": {
      "needs_background": "light"
     },
     "output_type": "display_data"
    }
   ],
   "source": [
    "fig, axes = plt.subplots(figsize=(10, 10))\n",
    "correlate = df.iloc[:, 1:].corr()\n",
    "sns.heatmap(correlate, vmin=-1, vmax=1, center=0, ax=axes)\n",
    "plt.show()"
   ]
  },
  {
   "cell_type": "markdown",
   "metadata": {},
   "source": [
    "## Drop Correlated Features:"
   ]
  },
  {
   "cell_type": "code",
   "execution_count": 195,
   "metadata": {},
   "outputs": [
    {
     "name": "stdout",
     "output_type": "stream",
     "text": [
      "These Columns are Correlated with each other \n",
      " {'calcium_mg', 'riboflavin_mg', 'phosphorus_mg', 'riboflavin_usrda', 'zinc_mg', 'magnesium_mg', 'vite_mg', 'vita_mcg', 'selenium_mcg', 'niacin_usrda', 'folate_mcg', 'copper_mcg', 'vitb6_mg', 'vitb6_usrda', 'thiamin_mg', 'carb_g', 'vitb12_mcg', 'energy_kcal', 'vitc_mg', 'niacin_mg'}\n"
     ]
    }
   ],
   "source": [
    "count = 0\n",
    "column_corr = list()\n",
    "for i in range(0, correlate.shape[0]):\n",
    "    for j in range(i+1, correlate.shape[0]):\n",
    "        if(abs(correlate.iloc[i, j]) > 0.6):\n",
    "            column_corr.append(correlate.columns[i])\n",
    "            #print(correlate.columns[i] + \" -> \"+ correlate.columns[j])\n",
    "            count += 1\n",
    "            \n",
    "print(\"These Columns are Correlated with each other \\n\" , set(column_corr))"
   ]
  },
  {
   "cell_type": "markdown",
   "metadata": {},
   "source": [
    "We are Removing 20 Correlated Features from the dataset"
   ]
  },
  {
   "cell_type": "code",
   "execution_count": 196,
   "metadata": {},
   "outputs": [
    {
     "data": {
      "text/plain": [
       "(8618, 19)"
      ]
     },
     "execution_count": 196,
     "metadata": {},
     "output_type": "execute_result"
    }
   ],
   "source": [
    "df.drop(list(set(column_corr)), axis=1,inplace=True)\n",
    "df.shape"
   ]
  },
  {
   "cell_type": "markdown",
   "metadata": {},
   "source": [
    "We are checking Skewness of Data by Histogram"
   ]
  },
  {
   "cell_type": "code",
   "execution_count": 197,
   "metadata": {},
   "outputs": [
    {
     "name": "stderr",
     "output_type": "stream",
     "text": [
      "C:\\Users\\Muneer\\AppData\\Local\\Continuum\\anaconda3\\lib\\site-packages\\ipykernel_launcher.py:2: UserWarning: To output multiple subplots, the figure containing the passed axes is being cleared\n",
      "  \n"
     ]
    },
    {
     "data": {
      "image/png": "[encoded data removed]",
      "text/plain": [
       "<Figure size 1080x1080 with 20 Axes>"
      ]
     },
     "metadata": {
      "needs_background": "light"
     },
     "output_type": "display_data"
    }
   ],
   "source": [
    "fig, axes = plt.subplots(figsize=(15, 15))\n",
    "df.iloc[:,1:].hist(bins=100, xlabelsize=0.5, ylabelsize=0.5, ax=axes)\n",
    "plt.show()"
   ]
  },
  {
   "cell_type": "markdown",
   "metadata": {},
   "source": [
    "## Replacing NA values"
   ]
  },
  {
   "cell_type": "code",
   "execution_count": 198,
   "metadata": {},
   "outputs": [],
   "source": [
    "df.fillna(0, inplace=True)"
   ]
  },
  {
   "cell_type": "markdown",
   "metadata": {},
   "source": [
    "Setting X data and Target Variable"
   ]
  },
  {
   "cell_type": "code",
   "execution_count": 122,
   "metadata": {},
   "outputs": [],
   "source": [
    "# save the labels to a Pandas series target\n",
    "y = df.iloc[:,0]\n",
    "\n",
    "# Get All Numeric Columns except foodgroup Column\n",
    "X = df.iloc[:,1:]"
   ]
  },
  {
   "cell_type": "markdown",
   "metadata": {},
   "source": [
    "Make do_PCA function for PCA transformation"
   ]
  },
  {
   "cell_type": "code",
   "execution_count": 199,
   "metadata": {},
   "outputs": [],
   "source": [
    "def do_pca(n_component,data):\n",
    "    '''\n",
    "    Transforms data using PCA to create n_components, and provides back the results of the\n",
    "    transformation.\n",
    "    \n",
    "    INPUT: n_components - int - the number of principal components to create\n",
    "           data - the data you would like to transform\n",
    "           \n",
    "    OUTPUT: pca - the pca object created after fitting the data\n",
    "            X_pca - the transformed X matrix with new number of components\n",
    "    '''\n",
    "    X = StandardScaler().fit_transform(data)\n",
    "    pca = PCA(n_component)\n",
    "    X_pca = pca.fit_transform(X)\n",
    "    return pca, X_pca"
   ]
  },
  {
   "cell_type": "markdown",
   "metadata": {},
   "source": [
    "We are providing only 3  To make 3 Prinicpal Components."
   ]
  },
  {
   "cell_type": "code",
   "execution_count": 200,
   "metadata": {},
   "outputs": [],
   "source": [
    "pca, X_pca = do_pca(3,X)"
   ]
  },
  {
   "cell_type": "markdown",
   "metadata": {},
   "source": [
    "Explain Variance Ratio of 3 Components"
   ]
  },
  {
   "cell_type": "code",
   "execution_count": 201,
   "metadata": {},
   "outputs": [
    {
     "data": {
      "text/plain": [
       "array([0.20589882, 0.11825986, 0.09837185])"
      ]
     },
     "execution_count": 201,
     "metadata": {},
     "output_type": "execute_result"
    }
   ],
   "source": [
    "pca.explained_variance_ratio_"
   ]
  },
  {
   "cell_type": "code",
   "execution_count": 202,
   "metadata": {},
   "outputs": [
    {
     "data": {
      "text/plain": [
       "(8618, 3)"
      ]
     },
     "execution_count": 202,
     "metadata": {},
     "output_type": "execute_result"
    }
   ],
   "source": [
    "# We are providing only 3  To make 3 Prinicpal Component\n",
    "pca, X_pca = do_pca(3, X)\n",
    "X_pca.shape"
   ]
  },
  {
   "cell_type": "markdown",
   "metadata": {},
   "source": [
    "Contribution of All 3 Principle Conponent in All 8618 Rows"
   ]
  },
  {
   "cell_type": "code",
   "execution_count": 229,
   "metadata": {},
   "outputs": [
    {
     "data": {
      "text/html": [
       "<div>\n",
       "<style scoped>\n",
       "    .dataframe tbody tr th:only-of-type {\n",
       "        vertical-align: middle;\n",
       "    }\n",
       "\n",
       "    .dataframe tbody tr th {\n",
       "        vertical-align: top;\n",
       "    }\n",
       "\n",
       "    .dataframe thead th {\n",
       "        text-align: right;\n",
       "    }\n",
       "</style>\n",
       "<table border=\"1\" class=\"dataframe\">\n",
       "  <thead>\n",
       "    <tr style=\"text-align: right;\">\n",
       "      <th></th>\n",
       "      <th>PC1</th>\n",
       "      <th>PC2</th>\n",
       "      <th>PC3</th>\n",
       "      <th>foodgroup</th>\n",
       "    </tr>\n",
       "  </thead>\n",
       "  <tbody>\n",
       "    <tr>\n",
       "      <td>0</td>\n",
       "      <td>-1.165744</td>\n",
       "      <td>0.377952</td>\n",
       "      <td>0.590809</td>\n",
       "      <td>Dairy and Egg Products</td>\n",
       "    </tr>\n",
       "    <tr>\n",
       "      <td>1</td>\n",
       "      <td>-1.156101</td>\n",
       "      <td>0.376872</td>\n",
       "      <td>0.600553</td>\n",
       "      <td>Dairy and Egg Products</td>\n",
       "    </tr>\n",
       "    <tr>\n",
       "      <td>2</td>\n",
       "      <td>-1.174628</td>\n",
       "      <td>0.455665</td>\n",
       "      <td>0.677439</td>\n",
       "      <td>Dairy and Egg Products</td>\n",
       "    </tr>\n",
       "    <tr>\n",
       "      <td>3</td>\n",
       "      <td>0.670362</td>\n",
       "      <td>0.271283</td>\n",
       "      <td>-1.532015</td>\n",
       "      <td>Dairy and Egg Products</td>\n",
       "    </tr>\n",
       "    <tr>\n",
       "      <td>4</td>\n",
       "      <td>0.976438</td>\n",
       "      <td>0.217515</td>\n",
       "      <td>-1.783609</td>\n",
       "      <td>Dairy and Egg Products</td>\n",
       "    </tr>\n",
       "    <tr>\n",
       "      <td>...</td>\n",
       "      <td>...</td>\n",
       "      <td>...</td>\n",
       "      <td>...</td>\n",
       "      <td>...</td>\n",
       "    </tr>\n",
       "    <tr>\n",
       "      <td>8613</td>\n",
       "      <td>0.957059</td>\n",
       "      <td>2.008277</td>\n",
       "      <td>-1.058371</td>\n",
       "      <td>Finfish and Shellfish Products</td>\n",
       "    </tr>\n",
       "    <tr>\n",
       "      <td>8614</td>\n",
       "      <td>0.013150</td>\n",
       "      <td>0.783658</td>\n",
       "      <td>-1.264995</td>\n",
       "      <td>Finfish and Shellfish Products</td>\n",
       "    </tr>\n",
       "    <tr>\n",
       "      <td>8615</td>\n",
       "      <td>-1.143957</td>\n",
       "      <td>-1.550211</td>\n",
       "      <td>2.270872</td>\n",
       "      <td>Sweets</td>\n",
       "    </tr>\n",
       "    <tr>\n",
       "      <td>8616</td>\n",
       "      <td>1.441402</td>\n",
       "      <td>-0.209624</td>\n",
       "      <td>-1.002086</td>\n",
       "      <td>Finfish and Shellfish Products</td>\n",
       "    </tr>\n",
       "    <tr>\n",
       "      <td>8617</td>\n",
       "      <td>-0.246059</td>\n",
       "      <td>0.594183</td>\n",
       "      <td>-0.677250</td>\n",
       "      <td>Finfish and Shellfish Products</td>\n",
       "    </tr>\n",
       "  </tbody>\n",
       "</table>\n",
       "<p>8618 rows × 4 columns</p>\n",
       "</div>"
      ],
      "text/plain": [
       "           PC1       PC2       PC3                       foodgroup\n",
       "0    -1.165744  0.377952  0.590809          Dairy and Egg Products\n",
       "1    -1.156101  0.376872  0.600553          Dairy and Egg Products\n",
       "2    -1.174628  0.455665  0.677439          Dairy and Egg Products\n",
       "3     0.670362  0.271283 -1.532015          Dairy and Egg Products\n",
       "4     0.976438  0.217515 -1.783609          Dairy and Egg Products\n",
       "...        ...       ...       ...                             ...\n",
       "8613  0.957059  2.008277 -1.058371  Finfish and Shellfish Products\n",
       "8614  0.013150  0.783658 -1.264995  Finfish and Shellfish Products\n",
       "8615 -1.143957 -1.550211  2.270872                          Sweets\n",
       "8616  1.441402 -0.209624 -1.002086  Finfish and Shellfish Products\n",
       "8617 -0.246059  0.594183 -0.677250  Finfish and Shellfish Products\n",
       "\n",
       "[8618 rows x 4 columns]"
      ]
     },
     "execution_count": 229,
     "metadata": {},
     "output_type": "execute_result"
    }
   ],
   "source": [
    "X_pca1 = pd.DataFrame(X_pca, index=X.index, columns=[\"PC1\", \"PC2\", \"PC3\"])\n",
    "X_pca1 = X_pca1.join(y)\n",
    "X_pca1"
   ]
  },
  {
   "cell_type": "markdown",
   "metadata": {},
   "source": [
    "Now We have Variance ratio of every feature/Column in every 3 Prinicples Components to estimate weightage and importance of each feature in Principal Components."
   ]
  },
  {
   "cell_type": "code",
   "execution_count": 204,
   "metadata": {},
   "outputs": [],
   "source": [
    "def scree_plot(pca):    \n",
    "    num_components = len(pca.explained_variance_ratio_)\n",
    "    ind = np.arange(num_components)\n",
    "    vals = pca.explained_variance_ratio_\n",
    " \n",
    "    plt.figure(figsize=(10, 6))\n",
    "    ax = plt.subplot(111)\n",
    "    cumvals = np.cumsum(vals)\n",
    "    ax.bar(ind, vals)\n",
    "    ax.plot(ind, cumvals)\n",
    "    for i in range(num_components):\n",
    "        ax.annotate(r\"%s%%\" % ((str(vals[i]*100)[:4])), (ind[i]+0.2, vals[i]), va=\"bottom\", ha=\"center\", fontsize=12)\n",
    " \n",
    "    ax.xaxis.set_tick_params(width=0)\n",
    "    ax.yaxis.set_tick_params(width=2, length=12)\n",
    " \n",
    "    ax.set_xlabel(\"Principal Component\")\n",
    "    ax.set_ylabel(\"Variance Explained (%)\")\n",
    "    plt.title('Explained Variance Per Principal Component')"
   ]
  },
  {
   "cell_type": "markdown",
   "metadata": {},
   "source": [
    "## Variance Ratio display by Scree Plot"
   ]
  },
  {
   "cell_type": "code",
   "execution_count": 205,
   "metadata": {},
   "outputs": [
    {
     "data": {
      "image/png": "[encoded data removed]",
      "text/plain": [
       "<Figure size 720x432 with 1 Axes>"
      ]
     },
     "metadata": {
      "needs_background": "light"
     },
     "output_type": "display_data"
    }
   ],
   "source": [
    "scree_plot(pca)"
   ]
  },
  {
   "cell_type": "markdown",
   "metadata": {},
   "source": [
    "# Variance Ratio of Every Feature in 3's Principal Component"
   ]
  },
  {
   "cell_type": "markdown",
   "metadata": {},
   "source": [
    "Two main aspects of principal components are:\n",
    "\n",
    "1. **The amount of variability captured by the component.**\n",
    "2. **The components themselves.**\n"
   ]
  },
  {
   "cell_type": "code",
   "execution_count": 206,
   "metadata": {},
   "outputs": [
    {
     "data": {
      "text/html": [
       "<div>\n",
       "<style scoped>\n",
       "    .dataframe tbody tr th:only-of-type {\n",
       "        vertical-align: middle;\n",
       "    }\n",
       "\n",
       "    .dataframe tbody tr th {\n",
       "        vertical-align: top;\n",
       "    }\n",
       "\n",
       "    .dataframe thead th {\n",
       "        text-align: right;\n",
       "    }\n",
       "</style>\n",
       "<table border=\"1\" class=\"dataframe\">\n",
       "  <thead>\n",
       "    <tr style=\"text-align: right;\">\n",
       "      <th></th>\n",
       "      <th>PC1</th>\n",
       "      <th>PC2</th>\n",
       "      <th>PC3</th>\n",
       "    </tr>\n",
       "  </thead>\n",
       "  <tbody>\n",
       "    <tr>\n",
       "      <td>Explained Variance</td>\n",
       "      <td>0.205900</td>\n",
       "      <td>0.118300</td>\n",
       "      <td>0.098400</td>\n",
       "    </tr>\n",
       "    <tr>\n",
       "      <td>protein_g</td>\n",
       "      <td>0.207712</td>\n",
       "      <td>0.259987</td>\n",
       "      <td>-0.475079</td>\n",
       "    </tr>\n",
       "    <tr>\n",
       "      <td>fat_g</td>\n",
       "      <td>0.035092</td>\n",
       "      <td>0.017298</td>\n",
       "      <td>-0.075273</td>\n",
       "    </tr>\n",
       "    <tr>\n",
       "      <td>sugar_g</td>\n",
       "      <td>0.035134</td>\n",
       "      <td>-0.251047</td>\n",
       "      <td>0.298226</td>\n",
       "    </tr>\n",
       "    <tr>\n",
       "      <td>fiber_g</td>\n",
       "      <td>0.239508</td>\n",
       "      <td>-0.314225</td>\n",
       "      <td>0.111620</td>\n",
       "    </tr>\n",
       "    <tr>\n",
       "      <td>iron_mg</td>\n",
       "      <td>0.346873</td>\n",
       "      <td>-0.216276</td>\n",
       "      <td>0.051288</td>\n",
       "    </tr>\n",
       "    <tr>\n",
       "      <td>manganese_mg</td>\n",
       "      <td>0.155248</td>\n",
       "      <td>0.162795</td>\n",
       "      <td>0.245955</td>\n",
       "    </tr>\n",
       "    <tr>\n",
       "      <td>vita_usrda</td>\n",
       "      <td>0.197761</td>\n",
       "      <td>0.385197</td>\n",
       "      <td>0.410716</td>\n",
       "    </tr>\n",
       "    <tr>\n",
       "      <td>vitb12_usrda</td>\n",
       "      <td>0.248154</td>\n",
       "      <td>0.446692</td>\n",
       "      <td>0.203359</td>\n",
       "    </tr>\n",
       "    <tr>\n",
       "      <td>vitc_usrda</td>\n",
       "      <td>0.067679</td>\n",
       "      <td>-0.094536</td>\n",
       "      <td>0.162091</td>\n",
       "    </tr>\n",
       "    <tr>\n",
       "      <td>vite_usrda</td>\n",
       "      <td>0.154825</td>\n",
       "      <td>-0.117327</td>\n",
       "      <td>0.080926</td>\n",
       "    </tr>\n",
       "    <tr>\n",
       "      <td>folate_usrda</td>\n",
       "      <td>0.284941</td>\n",
       "      <td>-0.214746</td>\n",
       "      <td>0.158608</td>\n",
       "    </tr>\n",
       "    <tr>\n",
       "      <td>thiamin_usrda</td>\n",
       "      <td>0.264359</td>\n",
       "      <td>-0.200250</td>\n",
       "      <td>0.055636</td>\n",
       "    </tr>\n",
       "    <tr>\n",
       "      <td>calcium_usrda</td>\n",
       "      <td>0.245263</td>\n",
       "      <td>-0.214402</td>\n",
       "      <td>-0.117745</td>\n",
       "    </tr>\n",
       "    <tr>\n",
       "      <td>copper_usrda</td>\n",
       "      <td>0.294197</td>\n",
       "      <td>0.315855</td>\n",
       "      <td>0.219805</td>\n",
       "    </tr>\n",
       "    <tr>\n",
       "      <td>magnesium_usrda</td>\n",
       "      <td>0.343130</td>\n",
       "      <td>-0.191096</td>\n",
       "      <td>-0.097188</td>\n",
       "    </tr>\n",
       "    <tr>\n",
       "      <td>phosphorus_usrda</td>\n",
       "      <td>0.304555</td>\n",
       "      <td>-0.001896</td>\n",
       "      <td>-0.355147</td>\n",
       "    </tr>\n",
       "    <tr>\n",
       "      <td>selenium_usrda</td>\n",
       "      <td>0.145761</td>\n",
       "      <td>0.228358</td>\n",
       "      <td>-0.322298</td>\n",
       "    </tr>\n",
       "    <tr>\n",
       "      <td>zinc_usrda</td>\n",
       "      <td>0.306335</td>\n",
       "      <td>0.076409</td>\n",
       "      <td>-0.177106</td>\n",
       "    </tr>\n",
       "  </tbody>\n",
       "</table>\n",
       "</div>"
      ],
      "text/plain": [
       "                         PC1       PC2       PC3\n",
       "Explained Variance  0.205900  0.118300  0.098400\n",
       "protein_g           0.207712  0.259987 -0.475079\n",
       "fat_g               0.035092  0.017298 -0.075273\n",
       "sugar_g             0.035134 -0.251047  0.298226\n",
       "fiber_g             0.239508 -0.314225  0.111620\n",
       "iron_mg             0.346873 -0.216276  0.051288\n",
       "manganese_mg        0.155248  0.162795  0.245955\n",
       "vita_usrda          0.197761  0.385197  0.410716\n",
       "vitb12_usrda        0.248154  0.446692  0.203359\n",
       "vitc_usrda          0.067679 -0.094536  0.162091\n",
       "vite_usrda          0.154825 -0.117327  0.080926\n",
       "folate_usrda        0.284941 -0.214746  0.158608\n",
       "thiamin_usrda       0.264359 -0.200250  0.055636\n",
       "calcium_usrda       0.245263 -0.214402 -0.117745\n",
       "copper_usrda        0.294197  0.315855  0.219805\n",
       "magnesium_usrda     0.343130 -0.191096 -0.097188\n",
       "phosphorus_usrda    0.304555 -0.001896 -0.355147\n",
       "selenium_usrda      0.145761  0.228358 -0.322298\n",
       "zinc_usrda          0.306335  0.076409 -0.177106"
      ]
     },
     "execution_count": 206,
     "metadata": {},
     "output_type": "execute_result"
    }
   ],
   "source": [
    "Components = pca.components_\n",
    "Components = pd.DataFrame(Components, index=[\"PC1\", \"PC2\", \"PC3\"], columns=X.columns)\n",
    "\n",
    "ratios = pca.explained_variance_ratio_.reshape(len(pca.components_), 1)\n",
    "variance_ratios = pd.DataFrame(np.round(ratios, 4), columns = ['Explained Variance'],index=[\"PC1\", \"PC2\", \"PC3\"])\n",
    "\n",
    "pd.concat([variance_ratios, Components], axis = 1).T"
   ]
  },
  {
   "cell_type": "markdown",
   "metadata": {},
   "source": [
    "Top 5 Features of princial Component 1 contributing highest Variance"
   ]
  },
  {
   "cell_type": "code",
   "execution_count": 225,
   "metadata": {},
   "outputs": [
    {
     "data": {
      "text/html": [
       "<div>\n",
       "<style scoped>\n",
       "    .dataframe tbody tr th:only-of-type {\n",
       "        vertical-align: middle;\n",
       "    }\n",
       "\n",
       "    .dataframe tbody tr th {\n",
       "        vertical-align: top;\n",
       "    }\n",
       "\n",
       "    .dataframe thead th {\n",
       "        text-align: right;\n",
       "    }\n",
       "</style>\n",
       "<table border=\"1\" class=\"dataframe\">\n",
       "  <thead>\n",
       "    <tr style=\"text-align: right;\">\n",
       "      <th></th>\n",
       "      <th>PC1</th>\n",
       "    </tr>\n",
       "  </thead>\n",
       "  <tbody>\n",
       "    <tr>\n",
       "      <td>iron_mg</td>\n",
       "      <td>0.346873</td>\n",
       "    </tr>\n",
       "    <tr>\n",
       "      <td>magnesium_usrda</td>\n",
       "      <td>0.343130</td>\n",
       "    </tr>\n",
       "    <tr>\n",
       "      <td>zinc_usrda</td>\n",
       "      <td>0.306335</td>\n",
       "    </tr>\n",
       "    <tr>\n",
       "      <td>phosphorus_usrda</td>\n",
       "      <td>0.304555</td>\n",
       "    </tr>\n",
       "    <tr>\n",
       "      <td>copper_usrda</td>\n",
       "      <td>0.294197</td>\n",
       "    </tr>\n",
       "  </tbody>\n",
       "</table>\n",
       "</div>"
      ],
      "text/plain": [
       "                       PC1\n",
       "iron_mg           0.346873\n",
       "magnesium_usrda   0.343130\n",
       "zinc_usrda        0.306335\n",
       "phosphorus_usrda  0.304555\n",
       "copper_usrda      0.294197"
      ]
     },
     "execution_count": 225,
     "metadata": {},
     "output_type": "execute_result"
    }
   ],
   "source": [
    "pd.DataFrame(Components.T.sort_values(\"PC1\", axis=0, ascending=False).iloc[:, 0]).head()"
   ]
  },
  {
   "cell_type": "markdown",
   "metadata": {},
   "source": [
    "Top 5 Features of princial Component 2 contributing highest Variance"
   ]
  },
  {
   "cell_type": "code",
   "execution_count": 222,
   "metadata": {},
   "outputs": [
    {
     "data": {
      "text/html": [
       "<div>\n",
       "<style scoped>\n",
       "    .dataframe tbody tr th:only-of-type {\n",
       "        vertical-align: middle;\n",
       "    }\n",
       "\n",
       "    .dataframe tbody tr th {\n",
       "        vertical-align: top;\n",
       "    }\n",
       "\n",
       "    .dataframe thead th {\n",
       "        text-align: right;\n",
       "    }\n",
       "</style>\n",
       "<table border=\"1\" class=\"dataframe\">\n",
       "  <thead>\n",
       "    <tr style=\"text-align: right;\">\n",
       "      <th></th>\n",
       "      <th>PC2</th>\n",
       "    </tr>\n",
       "  </thead>\n",
       "  <tbody>\n",
       "    <tr>\n",
       "      <td>vitb12_usrda</td>\n",
       "      <td>0.446692</td>\n",
       "    </tr>\n",
       "    <tr>\n",
       "      <td>vita_usrda</td>\n",
       "      <td>0.385197</td>\n",
       "    </tr>\n",
       "    <tr>\n",
       "      <td>copper_usrda</td>\n",
       "      <td>0.315855</td>\n",
       "    </tr>\n",
       "    <tr>\n",
       "      <td>protein_g</td>\n",
       "      <td>0.259987</td>\n",
       "    </tr>\n",
       "    <tr>\n",
       "      <td>selenium_usrda</td>\n",
       "      <td>0.228358</td>\n",
       "    </tr>\n",
       "  </tbody>\n",
       "</table>\n",
       "</div>"
      ],
      "text/plain": [
       "                     PC2\n",
       "vitb12_usrda    0.446692\n",
       "vita_usrda      0.385197\n",
       "copper_usrda    0.315855\n",
       "protein_g       0.259987\n",
       "selenium_usrda  0.228358"
      ]
     },
     "execution_count": 222,
     "metadata": {},
     "output_type": "execute_result"
    }
   ],
   "source": [
    "pd.DataFrame(Components.T.sort_values(\"PC2\", axis=0, ascending=False).iloc[:, 1]).head()"
   ]
  },
  {
   "cell_type": "markdown",
   "metadata": {},
   "source": [
    "Top 5 Features of princial Component 3 contributing highest Variance"
   ]
  },
  {
   "cell_type": "code",
   "execution_count": 223,
   "metadata": {},
   "outputs": [
    {
     "data": {
      "text/html": [
       "<div>\n",
       "<style scoped>\n",
       "    .dataframe tbody tr th:only-of-type {\n",
       "        vertical-align: middle;\n",
       "    }\n",
       "\n",
       "    .dataframe tbody tr th {\n",
       "        vertical-align: top;\n",
       "    }\n",
       "\n",
       "    .dataframe thead th {\n",
       "        text-align: right;\n",
       "    }\n",
       "</style>\n",
       "<table border=\"1\" class=\"dataframe\">\n",
       "  <thead>\n",
       "    <tr style=\"text-align: right;\">\n",
       "      <th></th>\n",
       "      <th>PC3</th>\n",
       "    </tr>\n",
       "  </thead>\n",
       "  <tbody>\n",
       "    <tr>\n",
       "      <td>vita_usrda</td>\n",
       "      <td>0.410716</td>\n",
       "    </tr>\n",
       "    <tr>\n",
       "      <td>sugar_g</td>\n",
       "      <td>0.298226</td>\n",
       "    </tr>\n",
       "    <tr>\n",
       "      <td>manganese_mg</td>\n",
       "      <td>0.245955</td>\n",
       "    </tr>\n",
       "    <tr>\n",
       "      <td>copper_usrda</td>\n",
       "      <td>0.219805</td>\n",
       "    </tr>\n",
       "    <tr>\n",
       "      <td>vitb12_usrda</td>\n",
       "      <td>0.203359</td>\n",
       "    </tr>\n",
       "  </tbody>\n",
       "</table>\n",
       "</div>"
      ],
      "text/plain": [
       "                   PC3\n",
       "vita_usrda    0.410716\n",
       "sugar_g       0.298226\n",
       "manganese_mg  0.245955\n",
       "copper_usrda  0.219805\n",
       "vitb12_usrda  0.203359"
      ]
     },
     "execution_count": 223,
     "metadata": {},
     "output_type": "execute_result"
    }
   ],
   "source": [
    "pd.DataFrame(Components.T.sort_values(\"PC3\", axis=0, ascending=False).iloc[:, 2]).head()"
   ]
  },
  {
   "cell_type": "markdown",
   "metadata": {},
   "source": [
    "Top Food Group Categories Contributing in All 3 Principal Components are:"
   ]
  },
  {
   "cell_type": "code",
   "execution_count": 243,
   "metadata": {},
   "outputs": [
    {
     "data": {
      "text/plain": [
       "Beef Products                        946\n",
       "Vegetables and Vegetable Products    828\n",
       "Baked Products                       797\n",
       "Soups, Sauces, and Gravies           452\n",
       "Lamb, Veal, and Game Products        438\n",
       "Name: foodgroup, dtype: int64"
      ]
     },
     "execution_count": 243,
     "metadata": {},
     "output_type": "execute_result"
    }
   ],
   "source": [
    "X_pca1.sort_values(by=['PC1','PC2','PC3'], ascending=False)['foodgroup'].value_counts().head()"
   ]
  },
  {
   "cell_type": "code",
   "execution_count": 244,
   "metadata": {},
   "outputs": [],
   "source": [
    "def pca_results(full_dataset, pca):\n",
    "    # Create a bar plot visualization\n",
    "    fig, ax = plt.subplots(figsize = (18,12))\n",
    "\n",
    "    # Plot the feature weights as a function of the components\n",
    "    Components.plot(ax = ax, kind = 'bar');\n",
    "    ax.set_ylabel(\"Feature Weights\")\n",
    "    ax.set_xticklabels(['PC1','PC2','PC3'], rotation=0)\n",
    "\n",
    "    # Display the explained variance ratios\n",
    "    for i, ev in enumerate(pca.explained_variance_ratio_):\n",
    "        ax.text(i-0.40, ax.get_ylim()[1] + 0.05, \"Explained Variance\\n %.4f\"%(ev))  "
   ]
  },
  {
   "cell_type": "code",
   "execution_count": 245,
   "metadata": {},
   "outputs": [
    {
     "data": {
      "image/png": "[encoded data removed]",
      "text/plain": [
       "<Figure size 1296x864 with 1 Axes>"
      ]
     },
     "metadata": {
      "needs_background": "light"
     },
     "output_type": "display_data"
    }
   ],
   "source": [
    "pca_results(X, pca)"
   ]
  },
  {
   "cell_type": "markdown",
   "metadata": {},
   "source": [
    "Now we will Apply Random Forest Classifier for PCA Demensionality Reduction:"
   ]
  },
  {
   "cell_type": "code",
   "execution_count": 246,
   "metadata": {},
   "outputs": [],
   "source": [
    "def fit_random_forest_classifier(X, y):\n",
    "    '''\n",
    "    INPUT: names are pretty self explanatory\n",
    "    OUTPUT: none - prints the confusion matrix and accuracy\n",
    "    '''\n",
    "    #First let's create training and testing data\n",
    "    X_train, X_test, y_train, y_test = train_test_split(X, y, test_size=0.33, random_state=42)\n",
    "\n",
    "    #We could grid search and tune, but let's just fit a simple model to see how it does\n",
    "    #instantiate\n",
    "    clf = RandomForestClassifier(n_estimators=100, max_depth=None)\n",
    "\n",
    "    #fit\n",
    "    clf.fit(X_train, y_train)\n",
    "\n",
    "    #predict\n",
    "    y_preds = clf.predict(X_test)\n",
    "\n",
    "    #score\n",
    "    print(confusion_matrix(y_test, y_preds))\n",
    "    acc = accuracy_score(y_test, y_preds)\n",
    "    print(acc)\n",
    "    return acc"
   ]
  },
  {
   "cell_type": "markdown",
   "metadata": {},
   "source": [
    "We will put x_pca with is pca components in place of X"
   ]
  },
  {
   "cell_type": "markdown",
   "metadata": {},
   "source": [
    "On 3 PCA Components Accuracy is 7% we want 90% Accuracy.So How many PCA Components need to achieve this we will use Random Forest Classifier to see How much Accuracy is improved by how many numbers of Principal Components needed."
   ]
  },
  {
   "cell_type": "code",
   "execution_count": null,
   "metadata": {},
   "outputs": [
    {
     "name": "stdout",
     "output_type": "stream",
     "text": [
      "[[  1   2   5   3   0   5   1   3   2   1   0   2   0   4   0   1   3   2\n",
      "    0   2   1   1   1   4   1]\n",
      " [  7  21   2   2   4   7   2   3   2   5   2  10   5   4   3   1   2   0\n",
      "    2   4   1  15   0  10  22]\n",
      " [  2   8  42  35   0   4   5  10  10   3   9   7  23  13   3   4   8   9\n",
      "    5  11   2   5   1   7  26]\n",
      " [  6   2  26  98   1   5   4   3  11   3   9   4  27  12   4   2  31  19\n",
      "    2   7  10   5   0   4   9]\n",
      " [  2   3   4   2  45   3   1   2   1   4   1   5   2   1   1   1   1   0\n",
      "    0   0   0  16   2   2   5]\n",
      " [  4   7   4   4   3  22   5   5   1   1   2   1   6  17   0   5   4   1\n",
      "    1   1   1   0   5   3   5]\n",
      " [  1   7   7   8   0   4   5   0   0   0   3   1   2   6   1   1   2   5\n",
      "    1   1   3   0   1   3   5]\n",
      " [  4   3   9  10   3   8   3  12   2   2   1   8   1   2   2   0   4   1\n",
      "    1   5   3   2   0   4   5]\n",
      " [  2   2  13  11   3   0   2   2  14   1   3   5   9   4   2   0   6   7\n",
      "    3   9   1   2   1   1  14]\n",
      " [  1   4   3   1   3   0   1   1   2  27   1   7   0   0   0   1   0   0\n",
      "    0   1   0   3   0   6  16]\n",
      " [  3   1  13  17   4   7   1   1   2   1   6   2   5   3   0   1   3   6\n",
      "    1   3   3   0   1   1  11]\n",
      " [  6  12   4   1   6   0   3   1   1   4   0  18   1   5   1   2   0   0\n",
      "    0   1   1  15   0  10  20]\n",
      " [  0   1  16  35   0   4   3   1   8   0  14   0  18   1   1   0  14  11\n",
      "    1   2   2   1   1   5   1]\n",
      " [  2   7  13  10   1  12   3   4   1   4   3   2   6  27   0   2   1   5\n",
      "    1   4   5   0   1   8   8]\n",
      " [  2   3   1   3   2   1   0   0   1   1   1   3   2   1   0   1   2   3\n",
      "    0   2   0   2   0   2   3]\n",
      " [  1   1   3   0   0   8   1   1   1   0   1   0   0   4   0  12   1   1\n",
      "    0   1   0   1   0   1   0]\n",
      " [  1   0   8  28   0   1   3   1   8   0   5   1  10   3   0   1  14   4\n",
      "    0   2   3   2   0   4   4]\n",
      " [  3   0  16  14   1   2   2   1   8   0   5   2  11  10   1   0   8  20\n",
      "    2  10   2   1   1   0   5]\n",
      " [  0   2   2   1   0   0   2   0   2   0   0   2   3   2   0   1   4   4\n",
      "    2   1   2   1   1   1   3]\n",
      " [  2   1  16   8   0   0   3   0   6   1   4   2   3   2   0   1   4  10\n",
      "    0   9   0   3   1   4   7]\n",
      " [  1   0   9  11   0   5   4   3   0   0   1   1   2   0   1   1   4   8\n",
      "    0   2   3   2   0   1   0]\n",
      " [  8  16   8   6  18   0   0   2   3   3   0  15   1   2   5   0   0   2\n",
      "    0   0   0  40   2  13  21]\n",
      " [  0   0   0   1   0   5   0   0   0   0   0   2   1   2   0   4   0   1\n",
      "    0   2   0   0   1   1   1]\n",
      " [  3   9   7  10   2   5   3   5   5   5   3   9   2   5   1   1   1   4\n",
      "    1   0   0   9   0   7  13]\n",
      " [  4  15  23  10  10   7   6   7   5   4   4  20   5  12   6   2   7   6\n",
      "    2   2   1  10   0  12 100]]\n",
      "0.19831223628691982\n",
      "[[  0   1   6   6   1   2   1   2   3   1   3   1   4   0   0   1   0   3\n",
      "    0   2   0   4   0   2   2]\n",
      " [  1  28   7   0   4  12   0   1   1   5   0  16   0   6   0   1   0   1\n",
      "    2   2   1  19   0   1  28]\n",
      " [  0   4 130   0   2   5  11   4  10   1   0  10   0  12   5   1   0   0\n",
      "    1   0   9   1   1  18  27]\n",
      " [  0   0   0 237   1   0   0   2   2   0   3   0  33   0   0   0   3  17\n",
      "    0   6   0   0   0   0   0]\n",
      " [  1   3   4   0  54   4   1   2   0   2   0   6   0   1   0   0   0   0\n",
      "    0   0   1  11   1   8   5]\n",
      " [  1   6   9   0   0  70   1   1   0   0   0   2   0   4   1   1   0   0\n",
      "    0   0   1   0   1   2   8]\n",
      " [  1   2  10   0   0   9  13   3   2   0   0   0   1   6   2   0   1   0\n",
      "    2   2   1   4   0   1   7]\n",
      " [  2   3   3   1   2   3   3  37   1   6   3   1   1   2   1   1   1   1\n",
      "    0   2   1   1   0   3  16]\n",
      " [  1   2  15   3   1   0   2   3  47   0   1   2   0   3   1   0   2   6\n",
      "    4   5   1   5   0   0  13]\n",
      " [  2   6   3   0   3   1   0   2   0  37   0   5   1   0   0   0   1   1\n",
      "    1   0   0   5   0   4   6]\n",
      " [  6   2   0  25   0   0   0   2   0   0  25   0   5   1   0   0   9  17\n",
      "    0   3   1   0   0   0   0]\n",
      " [  1  11   4   0   4   0   0   1   2   7   0  51   0   1   1   0   0   0\n",
      "    0   0   0   9   0   7  13]\n",
      " [  3   1   0  69   0   0   0   0   1   2  10   0  32   0   0   0   6   8\n",
      "    0   7   0   0   0   1   0]\n",
      " [  2   7  21   1   1   5   6  11   7   2   0   1   0  33   1  11   0   0\n",
      "    1   3   1   0   1   2  13]\n",
      " [  0   3   5   0   1   0   0   0   3   0   0   1   0   1   2   0   1   0\n",
      "    1   0   0   7   0   1  10]\n",
      " [  0   1   4   0   0   4   2   1   2   0   1   1   0   5   0  16   0   0\n",
      "    0   0   0   0   0   1   0]\n",
      " [  2   2   0  14   0   0   0   1   3   0   3   0   4   0   0   1  57   4\n",
      "    1  11   0   0   0   0   0]\n",
      " [  0   2   0  26   0   0   0   0   5   0  13   0  14   0   0   0   7  54\n",
      "    0   4   0   0   0   0   0]\n",
      " [  2   1   1   1   0   0   0   2   6   0   0   1   0   8   0   2   0   1\n",
      "    3   2   0   0   0   0   6]\n",
      " [  1   1   2   5   0   0   0   0   8   1   7   0   5   0   0   0   9  10\n",
      "    4  33   0   0   0   0   1]\n",
      " [  1   1  22   0   1   4   4   3   3   0   0   1   0   5   2   0   0   0\n",
      "    0   0   7   0   1   2   2]\n",
      " [  0   6   5   1  11   0   0   0   5   7   0  17   0   6   1   0   0   0\n",
      "    0   1   0  79   0   3  23]\n",
      " [  0   1   2   0   0   7   0   1   0   0   0   1   0   0   0   3   0   0\n",
      "    0   0   1   0   3   1   1]\n",
      " [  0   1  25   1   4   7   2   3   0   2   0   9   1   2   1   2   0   0\n",
      "    0   1   0   3   0  37   9]\n",
      " [  2   8  24   2   1   9   1  12   6   7   0  16   0  10   2   0   0   0\n",
      "    3   0   2   5   1   1 168]]\n",
      "0.44057665260196904\n",
      "[[  5   0   5   6   1   2   0   3   3   2   0   0   4   0   0   0   2   2\n",
      "    1   0   0   3   0   3   3]\n",
      " [  1  45   6   0   3   2   2   0   1   2   0  19   0   5   0   0   0   0\n",
      "    0   3   0  11   2   1  33]\n",
      " [  0   1 172   0   1   4   4   2   5   0   0   3   0  19   2   0   0   0\n",
      "    1   0   8   0   1  12  17]\n",
      " [  0   0   0 258   0   0   0   2   0   0   2   0  29   0   0   0   3   9\n",
      "    0   1   0   0   0   0   0]\n",
      " [  0   5   2   0  59   2   3   1   0   1   0   8   0   1   0   0   0   3\n",
      "    0   0   0   3   0  12   4]\n",
      " [  0   6   4   0   0  79   3   3   0   0   0   0   0   3   0   0   0   0\n",
      "    0   1   2   0   0   1   6]\n",
      " [  0   0  14   0   0   8  18   2   4   0   1   0   0   5   2   1   0   0\n",
      "    1   1   2   3   0   1   4]\n",
      " [  2   0   8   0   1   1   1  50   1   2   0   2   2   4   1   0   0   0\n",
      "    1   8   0   3   0   3   5]\n",
      " [  0   0  18   2   1   0   2   1  53   0   2   3   2   5   0   0   1   5\n",
      "    2   8   0   3   0   2   7]\n",
      " [  0   2   4   0   2   0   0   1   1  42   0   8   0   0   0   0   0   1\n",
      "    0   0   0   5   0   2  10]\n",
      " [  4   0   1  15   0   0   1   0   0   0  28   0  12   0   0   0  11  19\n",
      "    0   4   1   0   0   0   0]\n",
      " [  0  11   5   0   6   0   0   0   0   3   0  62   0   0   0   0   0   0\n",
      "    1   0   0   4   0   5  15]\n",
      " [  2   1   0  65   0   0   0   2   0   0   5   0  44   0   0   1   2  11\n",
      "    0   7   0   0   0   0   0]\n",
      " [  3   0  22   0   0   4   6   4   9   2   0   0   0  49   2  14   0   0\n",
      "    1   3   0   0   0   2   9]\n",
      " [  1   0  10   0   0   0   1   1   1   1   0   0   0   2   3   0   1   0\n",
      "    0   0   0   8   0   0   7]\n",
      " [  1   1   4   0   0   4   1   0   0   0   0   0   0   3   0  21   0   0\n",
      "    0   0   0   0   0   0   3]\n",
      " [  1   0   0   2   0   0   1   0   3   0   5   0   0   0   0   0  80   6\n",
      "    0   5   0   0   0   0   0]\n",
      " [  0   0   0  12   0   0   0   0   4   0   6   0   6   0   0   0   7  86\n",
      "    0   4   0   0   0   0   0]\n",
      " [  1   1   3   1   0   0   2   4   8   0   0   1   1   0   0   0   1   0\n",
      "   11   0   0   0   0   0   2]\n",
      " [  0   0   1   7   0   0   0   0   9   0   7   0   7   0   0   0  14   4\n",
      "    1  37   0   0   0   0   0]\n",
      " [  1   1  21   0   0   6   8   0   3   0   0   1   0   3   1   1   0   0\n",
      "    0   0   6   0   2   3   2]\n",
      " [  1   5   6   0   6   0   1   2   4   1   0   5   0   4   3   0   0   0\n",
      "    1   0   0 109   0   1  16]\n",
      " [  0   2   2   0   0   7   0   0   0   0   0   1   0   0   0   3   0   0\n",
      "    0   0   1   0   3   1   1]\n",
      " [  0   2  21   0   4   3   2   2   1   1   1   6   0   3   1   2   0   0\n",
      "    0   0   2   6   0  46   7]\n",
      " [  0   7   8   0   3  10   1   4   1   3   0   7   0   2   2   1   0   2\n",
      "    1   0   3   9   1   0 215]]\n",
      "0.5559071729957806\n",
      "[[  8   1   5   6   1   1   1   2   1   1   1   0   1   2   0   0   4   3\n",
      "    0   1   0   1   1   1   3]\n",
      " [  0  58   4   0   2   4   1   0   0   0   0  19   0   3   1   0   0   0\n",
      "    1   2   0  15   0   2  24]\n",
      " [  0   1 190   0   0   6   4   3   8   0   0   3   0  10   3   1   0   0\n",
      "    1   0   4   0   0   5  13]\n",
      " [  0   0   0 262   0   0   0   1   1   0   4   0  27   0   0   0   3   3\n",
      "    0   3   0   0   0   0   0]\n",
      " [  0   2   3   0  60   0   0   1   0   1   0   7   0   4   0   1   0   0\n",
      "    0   2   0   5   0  13   5]\n",
      " [  1   1   9   0   0  87   2   1   0   0   0   0   0   1   0   0   0   0\n",
      "    1   1   1   0   1   0   2]\n",
      " [  1   2   9   0   0   5  28   1   7   0   1   0   0   2   3   1   0   0\n",
      "    0   1   1   1   0   1   3]\n",
      " [  0   1   6   0   0   0   0  53   0   3   0   1   0   3   1   3   3   0\n",
      "    2   6   1   3   0   5   4]\n",
      " [  1   0  17   2   0   0   0   3  66   0   1   3   0   2   0   0   0   4\n",
      "    3   7   0   2   0   1   5]\n",
      " [  1   3   2   0   2   0   0   1   1  58   0   2   1   1   1   0   0   0\n",
      "    0   0   1   2   0   1   1]\n",
      " [  2   0   0   5   0   0   1   2   2   0  43   0  17   0   0   0   1  13\n",
      "    0  10   0   0   0   0   0]\n",
      " [  0  10   6   0   2   0   0   0   0   0   0  66   0   0   0   0   0   0\n",
      "    0   0   0   5   0   6  17]\n",
      " [  1   0   0  63   0   0   1   0   0   0   6   0  55   0   0   0   1   8\n",
      "    0   5   0   0   0   0   0]\n",
      " [  2   2  15   0   0   5   5   6   9   0   0   0   0  65   2   6   0   0\n",
      "    0   3   1   0   0   1   8]\n",
      " [  1   2   6   0   1   0   3   0   3   0   0   0   0   2   4   0   0   0\n",
      "    0   0   0  11   0   1   2]\n",
      " [  1   1   2   0   0   1   1   0   0   0   0   0   0   3   0  25   0   0\n",
      "    0   0   0   0   0   1   3]\n",
      " [  1   0   0   1   0   0   0   0   1   0   3   0   2   0   0   0  81   8\n",
      "    0   6   0   0   0   0   0]\n",
      " [  0   0   0   9   0   0   0   0   2   0   8   0   8   0   0   0   1  92\n",
      "    0   5   0   0   0   0   0]\n",
      " [  1   0   2   1   0   0   0   2   8   0   0   0   0   3   1   0   0   0\n",
      "   15   0   1   0   0   0   2]\n",
      " [  0   0   0   4   0   0   0   2   5   0   6   0   5   0   0   0  11   8\n",
      "    0  45   0   1   0   0   0]\n",
      " [  1   4  12   0   0   5   1   0   0   0   0   1   0   1   0   1   0   0\n",
      "    0   0  27   0   1   4   1]\n",
      " [  1   3   6   0   7   0   0   0   4   2   0   5   0   2   0   0   0   0\n",
      "    1   0   1 115   0   3  15]\n",
      " [  0   1   2   0   0   0   0   0   0   0   0   3   0   0   0   4   0   0\n",
      "    0   0   1   0   6   0   4]\n",
      " [  1   1  11   1   4   0   1   5   2   0   0   5   0   4   0   1   0   0\n",
      "    1   0   2   6   0  60   5]\n",
      " [  1   8  13   0   3   4   2   2   4   0   0   5   0   8   2   0   0   0\n",
      "    1   2   1   3   3   2 216]]\n",
      "0.6276371308016878\n"
     ]
    },
    {
     "name": "stdout",
     "output_type": "stream",
     "text": [
      "[[  5   0   7   6   1   1   0   2   1   1   1   1   4   4   0   0   1   3\n",
      "    0   0   0   2   1   1   3]\n",
      " [  0  71   5   0   1   5   0   0   0   0   0  16   0   3   1   1   0   0\n",
      "    0   0   0  17   0   1  15]\n",
      " [  1   0 206   0   0   6   4   2   7   2   0   1   0   7   4   0   0   0\n",
      "    0   0   3   0   0   3   6]\n",
      " [  0   0   0 271   0   0   0   1   0   0   2   0  20   0   0   0   3   5\n",
      "    0   2   0   0   0   0   0]\n",
      " [  0   5   3   0  59   0   1   2   0   0   0   7   3   3   1   0   0   0\n",
      "    0   0   0   5   0   8   7]\n",
      " [  1   0   4   0   0  88   5   1   0   0   0   1   0   1   0   1   0   0\n",
      "    0   0   0   0   1   0   5]\n",
      " [  3   0   6   0   0   7  36   0   0   0   2   0   0   4   1   1   0   0\n",
      "    0   1   0   2   0   1   3]\n",
      " [  3   0   2   0   1   0   0  60   2   4   0   0   0   4   0   0   0   0\n",
      "    0   7   0   4   1   2   5]\n",
      " [  0   0  17   1   0   0   1   3  69   0   1   1   1   2   0   0   0   3\n",
      "    1   8   0   2   0   1   6]\n",
      " [  0   0   5   0   1   0   0   0   0  62   0   2   0   0   1   0   0   0\n",
      "    1   1   1   2   0   0   2]\n",
      " [  2   0   0   2   0   0   0   2   1   0  72   0   7   0   0   0   0   6\n",
      "    0   4   0   0   0   0   0]\n",
      " [  0   4   0   0   4   0   0   0   0   0   0  75   0   0   0   0   0   0\n",
      "    0   0   0   2   0   4  23]\n",
      " [  1   0   1  55   0   0   0   0   1   0   4   0  66   0   0   0   1   9\n",
      "    0   2   0   0   0   0   0]\n",
      " [  1   0   8   0   2   4   7   4   7   0   0   1   0  78   2   2   0   0\n",
      "    0   3   2   0   0   1   8]\n",
      " [  0   2   8   0   0   0   2   0   4   0   0   0   0   1   6   0   0   0\n",
      "    1   0   0   7   0   0   5]\n",
      " [  0   1   1   0   1   0   1   1   0   0   0   0   0   1   0  27   0   0\n",
      "    0   0   0   0   0   1   4]\n",
      " [  0   0   0   6   0   0   0   0   2   0   1   0   5   0   0   0  81   5\n",
      "    0   3   0   0   0   0   0]\n",
      " [  0   0   0   5   0   0   0   0   2   0   6   0   9   0   0   0   1  98\n",
      "    0   4   0   0   0   0   0]\n",
      " [  0   0   4   1   0   0   0   1   8   1   0   0   0   0   2   0   0   0\n",
      "   18   0   0   0   0   0   1]\n",
      " [  1   0   0   5   0   0   0   0   6   0   1   0   5   0   1   0   9   5\n",
      "    0  54   0   0   0   0   0]\n",
      " [  0   3  13   0   0   4   0   0   0   0   0   2   0   0   0   2   0   0\n",
      "    0   0  32   0   0   1   2]\n",
      " [  0   3   8   0   8   0   2   1   3   1   0   5   0   0   3   0   0   0\n",
      "    0   0   0 114   0   1  16]\n",
      " [  1   0   0   0   0   0   0   0   0   0   0   4   0   0   0   2   0   0\n",
      "    0   0   0   0   9   0   5]\n",
      " [  4   1   6   1   4   0   0   4   2   0   0   9   0   4   0   1   0   0\n",
      "    0   0   4   5   0  57   8]\n",
      " [  1   2  12   0   5   4   1   1   0   0   0   6   1   6   2   0   0   0\n",
      "    0   0   0   6   3   2 228]]\n",
      "0.6828410689170182\n"
     ]
    }
   ],
   "source": [
    "accs = []\n",
    "comps = []\n",
    "\n",
    "for comp in range(1, 19):\n",
    "    pca, X_pca = do_pca(comp, X)\n",
    "    comps.append(comp)\n",
    "    acc = fit_random_forest_classifier(X_pca, y)\n",
    "    accs.append(acc)\n",
    "    if acc >= .80:\n",
    "        print(\"With only {} components, a random forest acheived an accuracy of {}.\".format(comp, acc))\n",
    "        break"
   ]
  },
  {
   "cell_type": "markdown",
   "metadata": {},
   "source": [
    "Analysis of Accuracy According to PCA Components. By Scree Plot"
   ]
  },
  {
   "cell_type": "code",
   "execution_count": null,
   "metadata": {},
   "outputs": [],
   "source": [
    "plt.plot(comps, accs, 'bo');\n",
    "plt.xlabel('Number of Components');\n",
    "plt.ylabel('Accuracy');\n",
    "plt.title('Number of Components by Accuracy');"
   ]
  },
  {
   "cell_type": "code",
   "execution_count": 181,
   "metadata": {},
   "outputs": [
    {
     "data": {
      "text/plain": [
       "(0.8002812939521801, 17)"
      ]
     },
     "execution_count": 181,
     "metadata": {},
     "output_type": "execute_result"
    }
   ],
   "source": [
    "# The max accuracy and corresponding number of components\n",
    "np.max(accs), comps[np.where(accs == np.max(accs))[0][0]]"
   ]
  },
  {
   "cell_type": "markdown",
   "metadata": {},
   "source": [
    "For Achieving 80% Accuracy 17 Principal Component is needed."
   ]
  }
 ],
 "metadata": {
  "kernelspec": {
   "display_name": "Python 3",
   "language": "python",
   "name": "python3"
  },
  "language_info": {
   "codemirror_mode": {
    "name": "ipython",
    "version": 3
   },
   "file_extension": ".py",
   "mimetype": "text/x-python",
   "name": "python",
   "nbconvert_exporter": "python",
   "pygments_lexer": "ipython3",
   "version": "3.7.4"
  }
 },
 "nbformat": 4,
 "nbformat_minor": 2
}
