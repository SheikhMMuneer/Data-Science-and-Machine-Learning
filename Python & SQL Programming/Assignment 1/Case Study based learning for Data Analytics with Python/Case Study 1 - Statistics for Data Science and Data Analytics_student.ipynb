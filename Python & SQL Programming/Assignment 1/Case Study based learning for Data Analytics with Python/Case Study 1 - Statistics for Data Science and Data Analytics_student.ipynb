{
 "cells": [
  {
   "cell_type": "markdown",
   "metadata": {},
   "source": [
    "## Case Study 1 - Statistics for Data Science and Data Analytics"
   ]
  },
  {
   "cell_type": "code",
   "execution_count": 40,
   "metadata": {},
   "outputs": [],
   "source": [
    "import statsmodels.api as sm\n",
    "%matplotlib inline\n",
    "from matplotlib import pyplot as plt\n",
    "import seaborn as sns\n",
    "import pandas as pd"
   ]
  },
  {
   "cell_type": "code",
   "execution_count": 2,
   "metadata": {},
   "outputs": [
    {
     "data": {
      "text/html": [
       "<div>\n",
       "<style scoped>\n",
       "    .dataframe tbody tr th:only-of-type {\n",
       "        vertical-align: middle;\n",
       "    }\n",
       "\n",
       "    .dataframe tbody tr th {\n",
       "        vertical-align: top;\n",
       "    }\n",
       "\n",
       "    .dataframe thead th {\n",
       "        text-align: right;\n",
       "    }\n",
       "</style>\n",
       "<table border=\"1\" class=\"dataframe\">\n",
       "  <thead>\n",
       "    <tr style=\"text-align: right;\">\n",
       "      <th></th>\n",
       "      <th>family</th>\n",
       "      <th>father</th>\n",
       "      <th>mother</th>\n",
       "      <th>midparentHeight</th>\n",
       "      <th>children</th>\n",
       "      <th>childNum</th>\n",
       "      <th>gender</th>\n",
       "      <th>childHeight</th>\n",
       "    </tr>\n",
       "  </thead>\n",
       "  <tbody>\n",
       "    <tr>\n",
       "      <th>0</th>\n",
       "      <td>001</td>\n",
       "      <td>78.5</td>\n",
       "      <td>67.0</td>\n",
       "      <td>75.43</td>\n",
       "      <td>4</td>\n",
       "      <td>1</td>\n",
       "      <td>male</td>\n",
       "      <td>73.2</td>\n",
       "    </tr>\n",
       "    <tr>\n",
       "      <th>1</th>\n",
       "      <td>001</td>\n",
       "      <td>78.5</td>\n",
       "      <td>67.0</td>\n",
       "      <td>75.43</td>\n",
       "      <td>4</td>\n",
       "      <td>2</td>\n",
       "      <td>female</td>\n",
       "      <td>69.2</td>\n",
       "    </tr>\n",
       "    <tr>\n",
       "      <th>2</th>\n",
       "      <td>001</td>\n",
       "      <td>78.5</td>\n",
       "      <td>67.0</td>\n",
       "      <td>75.43</td>\n",
       "      <td>4</td>\n",
       "      <td>3</td>\n",
       "      <td>female</td>\n",
       "      <td>69.0</td>\n",
       "    </tr>\n",
       "    <tr>\n",
       "      <th>3</th>\n",
       "      <td>001</td>\n",
       "      <td>78.5</td>\n",
       "      <td>67.0</td>\n",
       "      <td>75.43</td>\n",
       "      <td>4</td>\n",
       "      <td>4</td>\n",
       "      <td>female</td>\n",
       "      <td>69.0</td>\n",
       "    </tr>\n",
       "    <tr>\n",
       "      <th>4</th>\n",
       "      <td>002</td>\n",
       "      <td>75.5</td>\n",
       "      <td>66.5</td>\n",
       "      <td>73.66</td>\n",
       "      <td>4</td>\n",
       "      <td>1</td>\n",
       "      <td>male</td>\n",
       "      <td>73.5</td>\n",
       "    </tr>\n",
       "  </tbody>\n",
       "</table>\n",
       "</div>"
      ],
      "text/plain": [
       "  family  father  mother  midparentHeight  children  childNum  gender  \\\n",
       "0    001    78.5    67.0            75.43         4         1    male   \n",
       "1    001    78.5    67.0            75.43         4         2  female   \n",
       "2    001    78.5    67.0            75.43         4         3  female   \n",
       "3    001    78.5    67.0            75.43         4         4  female   \n",
       "4    002    75.5    66.5            73.66         4         1    male   \n",
       "\n",
       "   childHeight  \n",
       "0         73.2  \n",
       "1         69.2  \n",
       "2         69.0  \n",
       "3         69.0  \n",
       "4         73.5  "
      ]
     },
     "execution_count": 2,
     "metadata": {},
     "output_type": "execute_result"
    }
   ],
   "source": [
    "df_data = sm.datasets.get_rdataset('GaltonFamilies', package='HistData').data\n",
    "df_data.head()"
   ]
  },
  {
   "cell_type": "code",
   "execution_count": 8,
   "metadata": {},
   "outputs": [
    {
     "data": {
      "text/plain": [
       "male      481\n",
       "female    453\n",
       "Name: gender, dtype: int64"
      ]
     },
     "execution_count": 8,
     "metadata": {},
     "output_type": "execute_result"
    }
   ],
   "source": [
    "# Follow the class lecture from here onwards and to complete the case study, write the code as discussed in the class\n",
    "df_gender = df_data['gender'].value_counts()\n",
    "df_gender"
   ]
  },
  {
   "cell_type": "code",
   "execution_count": 12,
   "metadata": {},
   "outputs": [
    {
     "data": {
      "image/png": "[encoded data removed]",
      "text/plain": [
       "<matplotlib.figure.Figure at 0x5ea879c50>"
      ]
     },
     "metadata": {},
     "output_type": "display_data"
    }
   ],
   "source": [
    "df_gender.plot(kind='bar',title=\"Gender Counts\",color=['Red','Blue'])\n",
    "plt.xlabel('Gender')\n",
    "plt.ylabel('Number of Children')\n",
    "plt.show()"
   ]
  },
  {
   "cell_type": "code",
   "execution_count": 19,
   "metadata": {},
   "outputs": [
    {
     "data": {
      "text/plain": [
       "male      51.498929\n",
       "female    48.501071\n",
       "Name: gender, dtype: float64"
      ]
     },
     "execution_count": 19,
     "metadata": {},
     "output_type": "execute_result"
    }
   ],
   "source": [
    "per = df_gender/ df_data.shape[0]*100\n",
    "per"
   ]
  },
  {
   "cell_type": "code",
   "execution_count": 20,
   "metadata": {},
   "outputs": [
    {
     "data": {
      "image/png": "[encoded data removed]",
      "text/plain": [
       "<matplotlib.figure.Figure at 0x5e37da3c8>"
      ]
     },
     "metadata": {},
     "output_type": "display_data"
    }
   ],
   "source": [
    "per.plot(kind='bar',title=\"Gender Counts\")\n",
    "plt.xlabel('Gender')\n",
    "plt.ylabel('Number of Children')\n",
    "plt.show()"
   ]
  },
  {
   "cell_type": "code",
   "execution_count": 22,
   "metadata": {},
   "outputs": [
    {
     "data": {
      "text/plain": [
       "185     15\n",
       "120     11\n",
       "066     11\n",
       "166     11\n",
       "130     11\n",
       "136     10\n",
       "097     10\n",
       "158     10\n",
       "140     10\n",
       "107      9\n",
       "190      9\n",
       "016      9\n",
       "053      9\n",
       "173      9\n",
       "124      9\n",
       "082      9\n",
       "141      8\n",
       "099      8\n",
       "069      8\n",
       "121      8\n",
       "168      8\n",
       "083      8\n",
       "079      8\n",
       "161      8\n",
       "145      8\n",
       "046      8\n",
       "136A     8\n",
       "172      8\n",
       "176      8\n",
       "020      8\n",
       "        ..\n",
       "150      1\n",
       "012      1\n",
       "034      1\n",
       "160      1\n",
       "024      1\n",
       "030      1\n",
       "200      1\n",
       "187      1\n",
       "006      1\n",
       "080      1\n",
       "178      1\n",
       "148      1\n",
       "157      1\n",
       "127      1\n",
       "154      1\n",
       "059      1\n",
       "143      1\n",
       "098      1\n",
       "065      1\n",
       "184      1\n",
       "152      1\n",
       "009      1\n",
       "182      1\n",
       "111      1\n",
       "063      1\n",
       "117      1\n",
       "019      1\n",
       "139      1\n",
       "041      1\n",
       "147      1\n",
       "Name: family, Length: 205, dtype: int64"
      ]
     },
     "execution_count": 22,
     "metadata": {},
     "output_type": "execute_result"
    }
   ],
   "source": [
    "df_family = df_data['family'].value_counts()\n",
    "df_family"
   ]
  },
  {
   "cell_type": "code",
   "execution_count": 26,
   "metadata": {},
   "outputs": [
    {
     "data": {
      "text/plain": [
       "1     33\n",
       "2     23\n",
       "3     22\n",
       "4     31\n",
       "5     28\n",
       "6     18\n",
       "7     17\n",
       "8     17\n",
       "9      7\n",
       "10     4\n",
       "11     4\n",
       "15     1\n",
       "Name: children, dtype: int64"
      ]
     },
     "execution_count": 26,
     "metadata": {},
     "output_type": "execute_result"
    }
   ],
   "source": [
    "df_family = df_data[['family','children']].drop_duplicates()\n",
    "# sprint(df_family)\n",
    "df_child  = df_family['children'].value_counts().sort_index()\n",
    "df_child"
   ]
  },
  {
   "cell_type": "code",
   "execution_count": 28,
   "metadata": {},
   "outputs": [
    {
     "data": {
      "image/png": "[encoded data removed]",
      "text/plain": [
       "<matplotlib.figure.Figure at 0x5e3981438>"
      ]
     },
     "metadata": {},
     "output_type": "display_data"
    }
   ],
   "source": [
    "df_child.plot(kind='bar',title=\"Gender Counts\")\n",
    "plt.xlabel('Children')\n",
    "plt.ylabel('Number of Children')\n",
    "plt.show()"
   ]
  },
  {
   "cell_type": "code",
   "execution_count": 42,
   "metadata": {},
   "outputs": [],
   "source": [
    "df = df_data['father'].unique()\n",
    "# pd.crosstab(df)"
   ]
  },
  {
   "cell_type": "code",
   "execution_count": 51,
   "metadata": {},
   "outputs": [
    {
     "data": {
      "text/plain": [
       "0      78.5\n",
       "4      75.5\n",
       "8      75.0\n",
       "10     75.0\n",
       "15     75.0\n",
       "21     74.0\n",
       "22     74.0\n",
       "28     74.0\n",
       "31     74.5\n",
       "32     74.0\n",
       "33     74.0\n",
       "41     74.0\n",
       "42     73.0\n",
       "44     73.0\n",
       "46     73.0\n",
       "49     73.0\n",
       "58     73.0\n",
       "64     73.0\n",
       "67     73.2\n",
       "68     72.7\n",
       "76     72.0\n",
       "79     72.0\n",
       "82     72.0\n",
       "89     72.0\n",
       "90     72.0\n",
       "92     72.0\n",
       "97     72.0\n",
       "100    72.0\n",
       "106    72.5\n",
       "109    72.0\n",
       "       ... \n",
       "803    66.0\n",
       "809    66.5\n",
       "817    66.0\n",
       "822    66.0\n",
       "823    66.0\n",
       "825    66.5\n",
       "831    66.5\n",
       "838    66.0\n",
       "839    66.0\n",
       "843    66.0\n",
       "844    66.0\n",
       "859    65.0\n",
       "863    65.0\n",
       "864    65.0\n",
       "868    65.0\n",
       "873    65.0\n",
       "882    65.0\n",
       "884    65.0\n",
       "890    65.0\n",
       "896    65.0\n",
       "898    65.0\n",
       "901    65.5\n",
       "905    65.5\n",
       "910    64.0\n",
       "917    64.0\n",
       "924    64.0\n",
       "925    64.0\n",
       "927    63.0\n",
       "929    62.0\n",
       "932    62.5\n",
       "Name: father, Length: 205, dtype: float64"
      ]
     },
     "execution_count": 51,
     "metadata": {},
     "output_type": "execute_result"
    }
   ],
   "source": [
    "df_father_uniq = df_data[['family','father']].drop_duplicates()\n",
    "df_father = df_father_uniq['father']\n",
    "df_father"
   ]
  },
  {
   "cell_type": "code",
   "execution_count": 52,
   "metadata": {},
   "outputs": [
    {
     "data": {
      "image/png": "[encoded data removed]",
      "text/plain": [
       "<matplotlib.figure.Figure at 0x5eeeb8c18>"
      ]
     },
     "metadata": {},
     "output_type": "display_data"
    }
   ],
   "source": [
    "df_father.plot.hist(title=\"Gender Counts\")\n",
    "plt.xlabel('Father  Heights')\n",
    "plt.ylabel('Number of Occurances')\n",
    "plt.show()"
   ]
  },
  {
   "cell_type": "code",
   "execution_count": 53,
   "metadata": {},
   "outputs": [
    {
     "data": {
      "text/plain": [
       "<matplotlib.axes._subplots.AxesSubplot at 0x5eefd1400>"
      ]
     },
     "execution_count": 53,
     "metadata": {},
     "output_type": "execute_result"
    },
    {
     "data": {
      "image/png": "[encoded data removed]",
      "text/plain": [
       "<matplotlib.figure.Figure at 0x5eefec198>"
      ]
     },
     "metadata": {},
     "output_type": "display_data"
    }
   ],
   "source": [
    "sns.distplot(df_father)"
   ]
  },
  {
   "cell_type": "code",
   "execution_count": 54,
   "metadata": {},
   "outputs": [
    {
     "data": {
      "image/png": "[encoded data removed]",
      "text/plain": [
       "<matplotlib.figure.Figure at 0x5eedda470>"
      ]
     },
     "metadata": {},
     "output_type": "display_data"
    }
   ],
   "source": [
    "ax = sns.distplot(df_father,rug=True,hist=True)"
   ]
  },
  {
   "cell_type": "code",
   "execution_count": 66,
   "metadata": {},
   "outputs": [
    {
     "data": {
      "text/plain": [
       "3.0"
      ]
     },
     "execution_count": 66,
     "metadata": {},
     "output_type": "execute_result"
    }
   ],
   "source": [
    "import numpy as np\n",
    "np.min(df_father)\n",
    "np.max(df_father)\n",
    "np.mean(df_father)\n",
    "np.median(df_father)\n",
    "np.std(df_father)\n",
    "percent_first = np.percentile(df_father,25)\n",
    "np.percentile(df_father,50)\n",
    "percent_thrid = np.percentile(df_father,75)\n",
    "quan = df_father.quantile([0.25,0.50,0.75])\n",
    "quan\n",
    "inter_quan =percent_thrid - percent_first\n",
    "inter_quan"
   ]
  },
  {
   "cell_type": "code",
   "execution_count": 74,
   "metadata": {},
   "outputs": [
    {
     "data": {
      "image/png": "[encoded data removed]",
      "text/plain": [
       "<matplotlib.figure.Figure at 0x5f011b588>"
      ]
     },
     "metadata": {},
     "output_type": "display_data"
    }
   ],
   "source": [
    "import scipy.stats as stats\n",
    "density = stats.gaussian_kde(df_father)\n",
    "n, x, _ = plt.hist(df_father,histtype='step',normed=True,bins=50)\n",
    "plt.plot(x,density(x))\n",
    "plt.axvline(np.mean(df_father), linestyle='dashed', color='red', linewidth=2)\n",
    "plt.axvline(np.median(df_father), linestyle='dashed', color='green', linewidth=2)\n",
    "plt.show()"
   ]
  },
  {
   "cell_type": "markdown",
   "metadata": {},
   "source": [
    "# Missing value Imputation"
   ]
  },
  {
   "cell_type": "code",
   "execution_count": 78,
   "metadata": {},
   "outputs": [
    {
     "data": {
      "text/plain": [
       "family             False\n",
       "father             False\n",
       "mother             False\n",
       "midparentHeight    False\n",
       "children           False\n",
       "childNum           False\n",
       "gender             False\n",
       "childHeight        False\n",
       "dtype: bool"
      ]
     },
     "execution_count": 78,
     "metadata": {},
     "output_type": "execute_result"
    }
   ],
   "source": [
    "X_missing = df_data.copy()\n",
    "pd.isnull(X_missing).any()"
   ]
  }
 ],
 "metadata": {
  "kernelspec": {
   "display_name": "Python 3",
   "language": "python",
   "name": "python3"
  },
  "language_info": {
   "codemirror_mode": {
    "name": "ipython",
    "version": 3
   },
   "file_extension": ".py",
   "mimetype": "text/x-python",
   "name": "python",
   "nbconvert_exporter": "python",
   "pygments_lexer": "ipython3",
   "version": "3.6.4"
  }
 },
 "nbformat": 4,
 "nbformat_minor": 2
}
